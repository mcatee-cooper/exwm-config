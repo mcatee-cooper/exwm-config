{
  "nbformat": 4,
  "nbformat_minor": 0,
  "metadata": {
    "colab": {
      "name": "mcateehw4.ipynb",
      "version": "0.3.2",
      "provenance": []
    },
    "kernelspec": {
      "name": "python3",
      "display_name": "Python 3"
    },
    "accelerator": "GPU"
  },
  "cells": [
    {
      "metadata": {
        "id": "t1neDM3yhJD1",
        "colab_type": "text"
      },
      "cell_type": "markdown",
      "source": [
        "# Homework 4\n",
        "Padraic McAtee"
      ]
    },
    {
      "metadata": {
        "id": "tGiUH4AwhN8h",
        "colab_type": "code",
        "colab": {}
      },
      "cell_type": "code",
      "source": [
        "import keras\n",
        "from keras.models import Sequential\n",
        "from keras.layers import Dense, Activation,Conv2D,BatchNormalization,MaxPooling2D,Dropout,Flatten\n",
        "import tensorflow as tf"
      ],
      "execution_count": 0,
      "outputs": []
    },
    {
      "metadata": {
        "id": "kN5aQtF6iav0",
        "colab_type": "text"
      },
      "cell_type": "markdown",
      "source": [
        "### Data"
      ]
    },
    {
      "metadata": {
        "id": "HGzC1PirhYxH",
        "colab_type": "code",
        "colab": {}
      },
      "cell_type": "code",
      "source": [
        "(x_train, y_train), (x_test, y_test)=tf.keras.datasets.cifar10.load_data()\n",
        "x_train=x_train.astype(\"float32\")\n",
        "y_train=y_train.astype(\"int32\")\n",
        "x_test=x_test.astype(\"float32\")\n",
        "y_test=y_test.astype(\"int32\")\n",
        "\n",
        "valSetSize = .1 \n",
        "valIdx = int((1-valSetSize)*len(x_train))\n",
        "\n",
        "x_val = x_train[valIdx:]\n",
        "y_val = y_train[valIdx:]\n",
        "x_train = x_train[:valIdx]\n",
        "y_train = y_train[:valIdx]"
      ],
      "execution_count": 0,
      "outputs": []
    },
    {
      "metadata": {
        "id": "IINvV1YSippd",
        "colab_type": "text"
      },
      "cell_type": "markdown",
      "source": [
        "#### Model"
      ]
    },
    {
      "metadata": {
        "id": "zLnTak5wSBV1",
        "colab_type": "code",
        "colab": {}
      },
      "cell_type": "code",
      "source": [
        "model=Sequential()\n",
        "model.add(Conv2D(32,(7,7),padding=\"same\",input_shape=x_train.shape[1:]))\n",
        "model.add(Activation(\"relu\"))\n",
        "model.add(BatchNormalization())\n",
        "model.add(Conv2D(32,(4,4)))\n",
        "model.add(Activation(\"relu\"))\n",
        "model.add(BatchNormalization())\n",
        "model.add(MaxPooling2D(pool_size=(4,4),strides=2))\n",
        "model.add(Dropout(0.25))\n",
        "\n",
        "model.add(Conv2D(64,(7,7),padding=\"same\"))\n",
        "model.add(Activation(\"relu\"))\n",
        "model.add(BatchNormalization())\n",
        "model.add(Conv2D(64,(4,4)))\n",
        "model.add(Activation(\"relu\"))\n",
        "model.add(BatchNormalization())\n",
        "model.add(MaxPooling2D(pool_size=(4,4),strides=2))\n",
        "model.add(Dropout(0.25))\n",
        "\n",
        "model.add(Flatten())\n",
        "model.add(Dense(512))\n",
        "model.add(Activation(\"relu\"))\n",
        "model.add(Dropout(0.5))\n",
        "model.add(Dense(10))\n",
        "model.add(Activation(\"softmax\"))\n",
        "model.compile(loss=\"categorical_crossentropy\",optimizer=\"Adam\",metrics=['accuracy','top_k_categorical_accuracy'])\n",
        "\n",
        "\n"
      ],
      "execution_count": 0,
      "outputs": []
    },
    {
      "metadata": {
        "id": "dUZlr4vPX3hM",
        "colab_type": "code",
        "colab": {}
      },
      "cell_type": "code",
      "source": [
        "y_train_k=keras.utils.np_utils.to_categorical(y_train)\n",
        "y_val_k=keras.utils.np_utils.to_categorical(y_val)\n",
        "y_test_k=keras.utils.np_utils.to_categorical(y_test)"
      ],
      "execution_count": 0,
      "outputs": []
    },
    {
      "metadata": {
        "id": "hDU5zkrlSBV4",
        "colab_type": "code",
        "colab": {
          "base_uri": "https://localhost:8080/",
          "height": 34
        },
        "outputId": "c6316c0c-ea8c-4468-f138-03bfb04eb6d1"
      },
      "cell_type": "code",
      "source": [
        "model.fit(x=x_train, y=y_train_k, batch_size=100, epochs=100, verbose=0, validation_data=(x_val,y_val_k), shuffle=True)"
      ],
      "execution_count": 31,
      "outputs": [
        {
          "output_type": "execute_result",
          "data": {
            "text/plain": [
              "<keras.callbacks.History at 0x7f9bf34c52e8>"
            ]
          },
          "metadata": {
            "tags": []
          },
          "execution_count": 31
        }
      ]
    },
    {
      "metadata": {
        "id": "bxfrwe-lwRiX",
        "colab_type": "text"
      },
      "cell_type": "markdown",
      "source": [
        "### Validation"
      ]
    },
    {
      "metadata": {
        "id": "lHPHkEUHhjiL",
        "colab_type": "code",
        "colab": {
          "base_uri": "https://localhost:8080/",
          "height": 52
        },
        "outputId": "5badbcbc-8e5a-4b9d-a648-a24a8085cd9f"
      },
      "cell_type": "code",
      "source": [
        "results_val = model.evaluate(x_val, y_val_k, verbose=0)\n",
        "print('Val Accuracy:', results_val[0])\n",
        "print('Val top5:', results_val[1])"
      ],
      "execution_count": 41,
      "outputs": [
        {
          "output_type": "stream",
          "text": [
            "Val Accuracy: 0.7694932288646698\n",
            "Val top5: 0.8342\n"
          ],
          "name": "stdout"
        }
      ]
    },
    {
      "metadata": {
        "id": "p5sbgZMhwU5H",
        "colab_type": "text"
      },
      "cell_type": "markdown",
      "source": [
        "### Testing"
      ]
    },
    {
      "metadata": {
        "id": "T7SVA7fchov-",
        "colab_type": "code",
        "colab": {
          "base_uri": "https://localhost:8080/",
          "height": 52
        },
        "outputId": "b53338c4-6346-40cc-e3e2-7e128ec4d256"
      },
      "cell_type": "code",
      "source": [
        "results_test = model.evaluate(x_test, y_test_k, verbose=0)\n",
        "print('Val Accuracy:', results_test[0])\n",
        "print('Val top5:', results_test[1])"
      ],
      "execution_count": 42,
      "outputs": [
        {
          "output_type": "stream",
          "text": [
            "Val Accuracy: 0.7700680900335312\n",
            "Val top5: 0.8281\n"
          ],
          "name": "stdout"
        }
      ]
    },
    {
      "metadata": {
        "id": "VEQ98MDxmwfC",
        "colab_type": "text"
      },
      "cell_type": "markdown",
      "source": [
        "## Cifar100\n",
        "### Data"
      ]
    },
    {
      "metadata": {
        "id": "hx1iaht9m0wV",
        "colab_type": "code",
        "colab": {}
      },
      "cell_type": "code",
      "source": [
        "(x_train, y_train), (x_test, y_test)=tf.keras.datasets.cifar100.load_data()\n",
        "x_train=x_train.astype(\"float32\")\n",
        "y_train=y_train.astype(\"int32\")\n",
        "x_test=x_test.astype(\"float32\")\n",
        "y_test=y_test.astype(\"int32\")\n",
        "\n",
        "valSetSize = .1 \n",
        "valIdx = int((1-valSetSize)*len(x_train))\n",
        "\n",
        "x_val = x_train[valIdx:]\n",
        "y_val = y_train[valIdx:]\n",
        "x_train = x_train[:valIdx]\n",
        "y_train = y_train[:valIdx]"
      ],
      "execution_count": 0,
      "outputs": []
    },
    {
      "metadata": {
        "id": "HUgvWGjD4iUJ",
        "colab_type": "text"
      },
      "cell_type": "markdown",
      "source": [
        "### Model"
      ]
    },
    {
      "metadata": {
        "id": "tD0ohlvUsb5A",
        "colab_type": "code",
        "colab": {}
      },
      "cell_type": "code",
      "source": [
        "model=Sequential()\n",
        "model.add(Conv2D(32,(7,7),padding=\"same\",input_shape=x_train.shape[1:]))\n",
        "model.add(Activation(\"relu\"))\n",
        "model.add(BatchNormalization())\n",
        "model.add(Conv2D(32,(4,4)))\n",
        "model.add(Activation(\"relu\"))\n",
        "model.add(BatchNormalization())\n",
        "model.add(MaxPooling2D(pool_size=(4,4),strides=2))\n",
        "model.add(Dropout(0.25))\n",
        "\n",
        "model.add(Conv2D(64,(7,7),padding=\"same\"))\n",
        "model.add(Activation(\"relu\"))\n",
        "model.add(BatchNormalization())\n",
        "model.add(Conv2D(64,(4,4)))\n",
        "model.add(Activation(\"relu\"))\n",
        "model.add(BatchNormalization())\n",
        "model.add(MaxPooling2D(pool_size=(4,4),strides=2))\n",
        "model.add(Dropout(0.25))\n",
        "\n",
        "model.add(Flatten())\n",
        "model.add(Dense(512))\n",
        "model.add(Activation(\"relu\"))\n",
        "model.add(Dropout(0.5))\n",
        "model.add(Dense(100))\n",
        "model.add(Activation(\"softmax\"))\n",
        "model.compile(loss=\"categorical_crossentropy\",optimizer=\"Adam\",metrics=['accuracy','top_k_categorical_accuracy'])"
      ],
      "execution_count": 0,
      "outputs": []
    },
    {
      "metadata": {
        "id": "JiX1iT8Y4pyK",
        "colab_type": "code",
        "colab": {}
      },
      "cell_type": "code",
      "source": [
        "y_train_k=keras.utils.np_utils.to_categorical(y_train)\n",
        "y_val_k=keras.utils.np_utils.to_categorical(y_val)\n",
        "y_test_k=keras.utils.np_utils.to_categorical(y_test)"
      ],
      "execution_count": 0,
      "outputs": []
    },
    {
      "metadata": {
        "id": "OkfCQwmG4tzz",
        "colab_type": "code",
        "colab": {
          "base_uri": "https://localhost:8080/",
          "height": 34
        },
        "outputId": "d7e9cb60-cf0d-4630-f383-140b9550a4bb"
      },
      "cell_type": "code",
      "source": [
        "model.fit(x=x_train, y=y_train_k, batch_size=100, epochs=100, verbose=0, validation_data=(x_val,y_val_k), shuffle=True)"
      ],
      "execution_count": 46,
      "outputs": [
        {
          "output_type": "execute_result",
          "data": {
            "text/plain": [
              "<keras.callbacks.History at 0x7f9bf3373860>"
            ]
          },
          "metadata": {
            "tags": []
          },
          "execution_count": 46
        }
      ]
    },
    {
      "metadata": {
        "id": "78xS1QqD42Zb",
        "colab_type": "text"
      },
      "cell_type": "markdown",
      "source": [
        "### Validation"
      ]
    },
    {
      "metadata": {
        "id": "XjTuNwtg43x4",
        "colab_type": "code",
        "colab": {
          "base_uri": "https://localhost:8080/",
          "height": 52
        },
        "outputId": "7a5430dd-0a78-4a72-de3c-d43138fee6ec"
      },
      "cell_type": "code",
      "source": [
        "results_val = model.evaluate(x_val, y_val_k, verbose=0)\n",
        "print('Val Accuracy:', results_val[1])\n",
        "print('Val top5:', results_val[2])"
      ],
      "execution_count": 52,
      "outputs": [
        {
          "output_type": "stream",
          "text": [
            "Val Accuracy: 0.509\n",
            "Val top5: 0.7952\n"
          ],
          "name": "stdout"
        }
      ]
    },
    {
      "metadata": {
        "id": "0gGV7gTs5BVP",
        "colab_type": "text"
      },
      "cell_type": "markdown",
      "source": [
        "### Testing"
      ]
    },
    {
      "metadata": {
        "id": "ZqTljLFu48pn",
        "colab_type": "code",
        "colab": {
          "base_uri": "https://localhost:8080/",
          "height": 52
        },
        "outputId": "e18fd5fd-ad36-43a5-9177-f211664d7dcc"
      },
      "cell_type": "code",
      "source": [
        "results_test = model.evaluate(x_test, y_test_k, verbose=0)\n",
        "print('Val Accuracy:', results_test[1])\n",
        "print('Val top5:', results_test[2])"
      ],
      "execution_count": 54,
      "outputs": [
        {
          "output_type": "stream",
          "text": [
            "Val Accuracy: 0.5129\n",
            "Val top5: 0.7851\n"
          ],
          "name": "stdout"
        }
      ]
    },
    {
      "metadata": {
        "id": "5zJ_jb7s5D3Q",
        "colab_type": "text"
      },
      "cell_type": "markdown",
      "source": [
        "### Reflection\n",
        "\n",
        "I began this exercise by attempting to reuse my MNIST function for the model. This consisted of 2 conv layers with pooling after each and a final dense layer. By adding normalization after each of the pools, I was able to increase accuracy on the CIFAR10 validation set to about 40%. Further tuning with kernel sizes in convolution and pool size and stride brought my accuracy to 60%. After collaborating with some classmates, I saw significant improvements in adding 2 more convolution layers. Unfortunately, this significantly increased my training time and made it very difficult to search the parameter space for an optimal architecture. The model I am submitting is the best I was able to come up with.\n",
        "\n",
        "If I had more time before the deadline, I would look into a better optimization scheme. This would hopefully decrease the training time as well as improving my model's accuracy."
      ]
    }
  ]
}